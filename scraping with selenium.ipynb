{
 "cells": [
  {
   "cell_type": "code",
   "execution_count": 2,
   "id": "eeffd7e1",
   "metadata": {},
   "outputs": [],
   "source": [
    "from selenium import webdriver\n",
    "from selenium.webdriver.chrome.service import Service\n",
    "from webdriver_manager.chrome import ChromeDriverManager\n",
    "import pandas as pd\n",
    "import time\n",
    "from selenium.webdriver.common.by import By"
   ]
  },
  {
   "cell_type": "code",
   "execution_count": 3,
   "id": "69a38559",
   "metadata": {},
   "outputs": [
    {
     "name": "stderr",
     "output_type": "stream",
     "text": [
      "\n",
      "\n",
      "====== WebDriver manager ======\n",
      "Current google-chrome version is 97.0.4692\n",
      "Get LATEST chromedriver version for 97.0.4692 google-chrome\n",
      "Trying to download new driver from https://chromedriver.storage.googleapis.com/97.0.4692.71/chromedriver_win32.zip\n",
      "Driver has been saved in cache [C:\\Users\\Huzefa\\.wdm\\drivers\\chromedriver\\win32\\97.0.4692.71]\n"
     ]
    }
   ],
   "source": [
    "driver = webdriver.Chrome(service=Service(ChromeDriverManager().install()))\n",
    "driver.get(\"https://forums.edmunds.com/discussion/2864/general/x/entry-level-luxury-performance-sedans\")"
   ]
  },
  {
   "cell_type": "code",
   "execution_count": 4,
   "id": "755a1ae2",
   "metadata": {},
   "outputs": [
    {
     "name": "stderr",
     "output_type": "stream",
     "text": [
      "C:\\Users\\Huzefa\\AppData\\Local\\Temp/ipykernel_1940/3828530153.py:1: DeprecationWarning: find_elements_by_* commands are deprecated. Please use find_elements() instead\n",
      "  userid_element = driver.find_elements_by_xpath('//*[@id=\"Comment_1726631\"]/div/div[2]/div[1]/span[1]/a[2]')[0]\n"
     ]
    }
   ],
   "source": [
    "userid_element = driver.find_elements_by_xpath('//*[@id=\"Comment_1726631\"]/div/div[2]/div[1]/span[1]/a[2]')[0]\n",
    "userid = userid_element.text"
   ]
  },
  {
   "cell_type": "code",
   "execution_count": 5,
   "id": "5390bc45",
   "metadata": {},
   "outputs": [
    {
     "data": {
      "text/plain": [
       "'merc1'"
      ]
     },
     "execution_count": 5,
     "metadata": {},
     "output_type": "execute_result"
    }
   ],
   "source": [
    "userid"
   ]
  },
  {
   "cell_type": "code",
   "execution_count": 6,
   "id": "b9276d61",
   "metadata": {},
   "outputs": [
    {
     "name": "stderr",
     "output_type": "stream",
     "text": [
      "C:\\Users\\Huzefa\\AppData\\Local\\Temp/ipykernel_1940/3956643094.py:1: DeprecationWarning: find_elements_by_* commands are deprecated. Please use find_elements() instead\n",
      "  user_date = driver.find_elements_by_xpath('//*[@id=\"Comment_1726631\"]/div/div[2]/div[2]/span[1]/a/time')[0]\n"
     ]
    }
   ],
   "source": [
    "user_date = driver.find_elements_by_xpath('//*[@id=\"Comment_1726631\"]/div/div[2]/div[2]/span[1]/a/time')[0]\n",
    "date = user_date.get_attribute('title')"
   ]
  },
  {
   "cell_type": "code",
   "execution_count": 7,
   "id": "58ec4ed6",
   "metadata": {},
   "outputs": [
    {
     "data": {
      "text/plain": [
       "'March 24, 2002 9:54PM'"
      ]
     },
     "execution_count": 7,
     "metadata": {},
     "output_type": "execute_result"
    }
   ],
   "source": [
    "date"
   ]
  },
  {
   "cell_type": "code",
   "execution_count": 8,
   "id": "598287e5",
   "metadata": {},
   "outputs": [
    {
     "name": "stderr",
     "output_type": "stream",
     "text": [
      "C:\\Users\\Huzefa\\AppData\\Local\\Temp/ipykernel_1940/2975585438.py:1: DeprecationWarning: find_elements_by_* commands are deprecated. Please use find_elements() instead\n",
      "  user_message = driver.find_elements_by_xpath('//*[@id=\"Comment_1726631\"]/div/div[3]/div/div[1]')[0]\n"
     ]
    }
   ],
   "source": [
    "user_message = driver.find_elements_by_xpath('//*[@id=\"Comment_1726631\"]/div/div[3]/div/div[1]')[0]\n",
    "comment = user_message.text"
   ]
  },
  {
   "cell_type": "code",
   "execution_count": 9,
   "id": "234d9dcc",
   "metadata": {},
   "outputs": [
    {
     "data": {
      "text/plain": [
       "'I personally think that with a few tweaks the C320 could also sit at the top of this group. It\\'s still more of a entry-level luxury sedan than Mercedes would lead you to believe. The C320 \"Sport\" needs to have it\\'s suspension retuned to accept 17 inch tires without a harsh ride. MB also needs to stop forcing metal trim and black leather on everyone that wants the sport package. The C240\\'s 6-speed wouldn\\'t hurt either if offered on the C320, though it needs to be \"fixed\" first.\\n\\nThat said, my favorite of the group is (gasp!) the new A4 3.0. The A4 easily has the best interior of any sub-40K car, combine that with stunning looks and a body that is as rigid as any ever made and you have my personal favorite. The single thing I don\\'t like about the A4 is the grey trim around the bottom of the car. This trim doesn\\'t match any of the body colors, as it should be body color anyway. This is an excellent car and in my opinion the best there is under 40K. The upcoming A4 Convertible, Coupe and S4 WILL all be winners.\\n\\nThe BMW 330i is now an old favorite, but I\\'m (of all people) starting to tire of the 3-Series just a bit, save the M3 variants. I was kind of dissappointed by the 2002 facelift, they could have done a little more in the way of styling. I hope they do a little more for 2003 with the coupe models.\\n\\nThe Acura TL-S is easily my favorite fwd car in this class. Wonderful engine (you actually can hear it) and decent handling for a front driver. Nice price, seats and what not, not hard to see why the TL is so popular. This car\\'s main faults are styling and obvious cost-cutting in the interior, stereo, fake wood etc. Otherwise a standout.\\n\\nLexus ES300. Nice, but not my type of car at all. This is one for the Buick set. The IS300 is half baked, but has a wonderful chassis. Styling is also in question here, it simply doesn\\'t look like a 35K car (grown). The interior is gawd-awful. Bet on the next IS300 being done right from the start. In their defense Toyota didn\\'t initially intend for this car to be sold in the U.S. so it was a rush job.\\n\\nThe CTS holds the greatest unrealized potential here. I\\'ve seen several now, and each time I see one they look better and better. Again like the C320, IS300 the car has interior issues. The dash feels like it was made by Rubbermaid. If you\\'re going to be stingy with wood trim, why bother? Half of the steering wheel in wood, and very little anywhere else in the car??? The seats are very good though, as is the handling. A work in progress.\\n\\nThe G35 looks like it may have a winning chassis, but the interior, though clean looking seems to be styled about 10 years ago, lots of square shapes and flat surfaces. Another great engine, waiting to drive this one.\\n\\nDon\\'t really care much for the X-Type. If I were a Jaguar man I\\'d be truly pissed at Ford and Jaguar for this one. They are actually selling a fwd X-Type in England and I\\'ve read where they\\'re thinking about selling it here! Hell no. The car should have been rwd not awd. Some will tell you that this was done to compete with Audi. Thats BS, awd was the only way to keep the car from being fwd, WITHOUT spending the money to convert the car to rwd. It is a good looking car though and that Jaguar \"leaper\" will be enough for some, but this car has to grow on me.\\n\\nThe Chrysler 300M is about as close to an Audi that American cars come. This new 300M \"Special\" is truly a good looking car inside and out. One problem: Where is the performance???? A 255hp car *in this class) with a 0-60 time over 8 seconds is not accpetable. Something is not right here. Some say engine, transmission and/or gearing, but whatever it is, Chrysler needs to let some MB engineers have a look at this car. The heavier E320 with less power is faster. I still like this car, but it\\'s no lust object once you get past the great styling.\\n\\nM'"
      ]
     },
     "execution_count": 9,
     "metadata": {},
     "output_type": "execute_result"
    }
   ],
   "source": [
    "comment"
   ]
  },
  {
   "cell_type": "code",
   "execution_count": 10,
   "id": "d3b49044",
   "metadata": {},
   "outputs": [],
   "source": [
    "elements = driver.find_elements(By.XPATH, '//*[@id=\"Comment_1726631\"]/div/div[2]/div[1]/span[1]/a[2]')[0]"
   ]
  },
  {
   "cell_type": "code",
   "execution_count": 11,
   "id": "233c1681",
   "metadata": {},
   "outputs": [
    {
     "data": {
      "text/plain": [
       "'merc1'"
      ]
     },
     "execution_count": 11,
     "metadata": {},
     "output_type": "execute_result"
    }
   ],
   "source": [
    "userid = elements.text\n",
    "userid"
   ]
  },
  {
   "cell_type": "code",
   "execution_count": 12,
   "id": "cce37a8d",
   "metadata": {},
   "outputs": [
    {
     "data": {
      "text/plain": [
       "['Comment_1726631',\n",
       " 'Comment_1735583',\n",
       " 'Comment_1736651',\n",
       " 'Comment_1737717',\n",
       " 'Comment_1738808',\n",
       " 'Comment_1739887',\n",
       " 'Comment_1740980',\n",
       " 'Comment_1742053',\n",
       " 'Comment_1726632',\n",
       " 'Comment_1727692',\n",
       " 'Comment_1728743',\n",
       " 'Comment_1729828',\n",
       " 'Comment_1730916',\n",
       " 'Comment_1732003',\n",
       " 'Comment_1733098',\n",
       " 'Comment_1734186',\n",
       " 'Comment_1734285',\n",
       " 'Comment_1734392',\n",
       " 'Comment_1734502',\n",
       " 'Comment_1734611',\n",
       " 'Comment_1734717',\n",
       " 'Comment_1734828',\n",
       " 'Comment_1734935',\n",
       " 'Comment_1735045',\n",
       " 'Comment_1735262',\n",
       " 'Comment_1735368',\n",
       " 'Comment_1735474',\n",
       " 'Comment_1735584',\n",
       " 'Comment_1735694',\n",
       " 'Comment_1735798',\n",
       " 'Comment_1735905',\n",
       " 'Comment_1736011',\n",
       " 'Comment_1736120',\n",
       " 'Comment_1736222',\n",
       " 'Comment_1736331',\n",
       " 'Comment_1736434',\n",
       " 'Comment_1736542',\n",
       " 'Comment_1736652',\n",
       " 'Comment_1736762',\n",
       " 'Comment_1736873',\n",
       " 'Comment_1736984',\n",
       " 'Comment_1737092',\n",
       " 'Comment_1737185',\n",
       " 'Comment_1737287',\n",
       " 'Comment_1737394',\n",
       " 'Comment_1737499',\n",
       " 'Comment_1737606',\n",
       " 'Comment_1737718',\n",
       " 'Comment_1737829',\n",
       " 'Comment_1737939']"
      ]
     },
     "execution_count": 12,
     "metadata": {},
     "output_type": "execute_result"
    }
   ],
   "source": [
    "ids = driver.find_elements(By.XPATH, \"//*[contains(@id,'Comment_')]\")\n",
    "comment_ids = []\n",
    "for i in ids:\n",
    "    comment_ids.append(i.get_attribute('id'))\n",
    "    \n",
    "comment_ids\n",
    "int(driver.find_elements(By.XPATH, \"//*[contains(@title,'Next Page')] /preceding-sibling::a[1]\")[0].text)"
   ]
  },
  {
   "cell_type": "code",
   "execution_count": 51,
   "id": "7694030c",
   "metadata": {},
   "outputs": [
    {
     "name": "stderr",
     "output_type": "stream",
     "text": [
      "\n",
      "\n",
      "====== WebDriver manager ======\n",
      "Current google-chrome version is 97.0.4692\n",
      "Get LATEST chromedriver version for 97.0.4692 google-chrome\n",
      "Driver [C:\\Users\\Huzefa\\.wdm\\drivers\\chromedriver\\win32\\97.0.4692.71\\chromedriver.exe] found in cache\n"
     ]
    },
    {
     "ename": "IndexError",
     "evalue": "list index out of range",
     "output_type": "error",
     "traceback": [
      "\u001b[1;31m---------------------------------------------------------------------------\u001b[0m",
      "\u001b[1;31mIndexError\u001b[0m                                Traceback (most recent call last)",
      "\u001b[1;32m~\\AppData\\Local\\Temp/ipykernel_1940/342666856.py\u001b[0m in \u001b[0;36m<module>\u001b[1;34m\u001b[0m\n\u001b[0;32m     20\u001b[0m     \u001b[0mnumber_of_pages\u001b[0m \u001b[1;33m=\u001b[0m \u001b[1;36m10\u001b[0m\u001b[1;33m\u001b[0m\u001b[1;33m\u001b[0m\u001b[0m\n\u001b[0;32m     21\u001b[0m     \u001b[1;32mfor\u001b[0m \u001b[0mj\u001b[0m \u001b[1;32min\u001b[0m \u001b[0mrange\u001b[0m\u001b[1;33m(\u001b[0m\u001b[0mnumber_of_pages\u001b[0m \u001b[1;33m-\u001b[0m \u001b[1;36m1\u001b[0m\u001b[1;33m)\u001b[0m\u001b[1;33m:\u001b[0m\u001b[1;33m\u001b[0m\u001b[1;33m\u001b[0m\u001b[0m\n\u001b[1;32m---> 22\u001b[1;33m         \u001b[0mall_data\u001b[0m\u001b[1;33m.\u001b[0m\u001b[0mextend\u001b[0m\u001b[1;33m(\u001b[0m\u001b[0mgetData\u001b[0m\u001b[1;33m(\u001b[0m\u001b[1;33m)\u001b[0m\u001b[1;33m)\u001b[0m\u001b[1;33m\u001b[0m\u001b[1;33m\u001b[0m\u001b[0m\n\u001b[0m\u001b[0;32m     23\u001b[0m         \u001b[0mnext_page\u001b[0m \u001b[1;33m=\u001b[0m \u001b[0mdriver\u001b[0m\u001b[1;33m.\u001b[0m\u001b[0mfind_elements\u001b[0m\u001b[1;33m(\u001b[0m\u001b[0mBy\u001b[0m\u001b[1;33m.\u001b[0m\u001b[0mXPATH\u001b[0m\u001b[1;33m,\u001b[0m \u001b[1;34m\"//*[contains(@title,'Next Page')]\"\u001b[0m\u001b[1;33m)\u001b[0m\u001b[1;33m[\u001b[0m\u001b[1;36m0\u001b[0m\u001b[1;33m]\u001b[0m\u001b[1;33m.\u001b[0m\u001b[0mclick\u001b[0m\u001b[1;33m(\u001b[0m\u001b[1;33m)\u001b[0m\u001b[1;33m\u001b[0m\u001b[1;33m\u001b[0m\u001b[0m\n\u001b[0;32m     24\u001b[0m         \u001b[0mtime\u001b[0m\u001b[1;33m.\u001b[0m\u001b[0msleep\u001b[0m\u001b[1;33m(\u001b[0m\u001b[1;36m1\u001b[0m\u001b[1;33m)\u001b[0m\u001b[1;33m\u001b[0m\u001b[1;33m\u001b[0m\u001b[0m\n",
      "\u001b[1;32m~\\AppData\\Local\\Temp/ipykernel_1940/342666856.py\u001b[0m in \u001b[0;36mgetData\u001b[1;34m()\u001b[0m\n\u001b[0;32m     12\u001b[0m \u001b[1;32mfor\u001b[0m \u001b[0mx\u001b[0m \u001b[1;32min\u001b[0m \u001b[0mcomment_ids\u001b[0m\u001b[1;33m:\u001b[0m\u001b[1;33m\u001b[0m\u001b[1;33m\u001b[0m\u001b[0m\n\u001b[0;32m     13\u001b[0m     \u001b[1;32mdef\u001b[0m \u001b[0mgetData\u001b[0m\u001b[1;33m(\u001b[0m\u001b[1;33m)\u001b[0m\u001b[1;33m:\u001b[0m\u001b[1;33m\u001b[0m\u001b[1;33m\u001b[0m\u001b[0m\n\u001b[1;32m---> 14\u001b[1;33m         \u001b[0muser_date\u001b[0m \u001b[1;33m=\u001b[0m \u001b[0mdriver\u001b[0m\u001b[1;33m.\u001b[0m\u001b[0mfind_elements\u001b[0m\u001b[1;33m(\u001b[0m\u001b[0mBy\u001b[0m\u001b[1;33m.\u001b[0m\u001b[0mXPATH\u001b[0m\u001b[1;33m,\u001b[0m\u001b[1;34m'//*[@id=\"'\u001b[0m \u001b[1;33m+\u001b[0m \u001b[0mx\u001b[0m \u001b[1;33m+\u001b[0m\u001b[1;34m'\"]/div/div[2]/div[2]/span[1]/a/time'\u001b[0m\u001b[1;33m)\u001b[0m\u001b[1;33m[\u001b[0m\u001b[1;36m1\u001b[0m\u001b[1;33m]\u001b[0m\u001b[1;33m.\u001b[0m\u001b[0mget_attribute\u001b[0m\u001b[1;33m(\u001b[0m\u001b[1;34m'title'\u001b[0m\u001b[1;33m)\u001b[0m\u001b[1;33m\u001b[0m\u001b[1;33m\u001b[0m\u001b[0m\n\u001b[0m\u001b[0;32m     15\u001b[0m         \u001b[0muserid_element\u001b[0m \u001b[1;33m=\u001b[0m \u001b[0mdriver\u001b[0m\u001b[1;33m.\u001b[0m\u001b[0mfind_elements\u001b[0m\u001b[1;33m(\u001b[0m\u001b[0mBy\u001b[0m\u001b[1;33m.\u001b[0m\u001b[0mXPATH\u001b[0m\u001b[1;33m,\u001b[0m\u001b[1;34m'//*[@id=\"'\u001b[0m \u001b[1;33m+\u001b[0m \u001b[0mx\u001b[0m \u001b[1;33m+\u001b[0m\u001b[1;34m'\"]/div/div[2]/div[1]/span[1]/a[2]'\u001b[0m\u001b[1;33m)\u001b[0m\u001b[1;33m[\u001b[0m\u001b[1;36m2\u001b[0m\u001b[1;33m]\u001b[0m\u001b[1;33m.\u001b[0m\u001b[0mtext\u001b[0m\u001b[1;33m\u001b[0m\u001b[1;33m\u001b[0m\u001b[0m\n\u001b[0;32m     16\u001b[0m         \u001b[0muser_message\u001b[0m \u001b[1;33m=\u001b[0m \u001b[0mdriver\u001b[0m\u001b[1;33m.\u001b[0m\u001b[0mfind_elements\u001b[0m\u001b[1;33m(\u001b[0m\u001b[0mBy\u001b[0m\u001b[1;33m.\u001b[0m\u001b[0mXPATH\u001b[0m\u001b[1;33m,\u001b[0m\u001b[1;34m'//*[@id=\"'\u001b[0m \u001b[1;33m+\u001b[0m \u001b[0mx\u001b[0m \u001b[1;33m+\u001b[0m\u001b[1;34m'\"]/div/div[3]/div/div[1]'\u001b[0m\u001b[1;33m)\u001b[0m\u001b[1;33m[\u001b[0m\u001b[1;36m3\u001b[0m\u001b[1;33m]\u001b[0m\u001b[1;33m.\u001b[0m\u001b[0mtext\u001b[0m\u001b[1;33m\u001b[0m\u001b[1;33m\u001b[0m\u001b[0m\n",
      "\u001b[1;31mIndexError\u001b[0m: list index out of range"
     ]
    }
   ],
   "source": [
    "driver = webdriver.Chrome(service=Service(ChromeDriverManager().install()))\n",
    "url = \"https://forums.edmunds.com/discussion/2864/general/x/entry-level-luxury-performance-sedans\"\n",
    "driver.get(url)\n",
    "all_data = []\n",
    "\n",
    "comments = pd.DataFrame(columns = ['Date','user_id','comments']) \n",
    "ids = driver.find_elements(By.XPATH, \"//*[contains(@id,'Comment_')]\")\n",
    "comment_ids = []\n",
    "for i in ids:\n",
    "    comment_ids.append(i.get_attribute('id'))\n",
    "\n",
    "for x in comment_ids:\n",
    "    def getData():\n",
    "        user_date = driver.find_elements(By.XPATH,'//*[@id=\"' + x +'\"]/div/div[2]/div[2]/span[1]/a/time')[1].get_attribute('title')\n",
    "        userid_element = driver.find_elements(By.XPATH,'//*[@id=\"' + x +'\"]/div/div[2]/div[1]/span[1]/a[2]')[2].text\n",
    "        user_message = driver.find_elements(By.XPATH,'//*[@id=\"' + x +'\"]/div/div[3]/div/div[1]')[3].text\n",
    "        comments.loc[len(comments)] = [date,userid,comment]\n",
    "        return comments\n",
    "    \n",
    "    number_of_pages = 10\n",
    "    for j in range(number_of_pages - 1):\n",
    "        all_data.extend(getData())\n",
    "        next_page = driver.find_elements(By.XPATH, \"//*[contains(@title,'Next Page')]\")[0].click()\n",
    "        time.sleep(1)\n",
    "    driver.get(url)\n",
    "driver.quit()"
   ]
  },
  {
   "cell_type": "code",
   "execution_count": null,
   "id": "4507b01d",
   "metadata": {},
   "outputs": [],
   "source": [
    "comments.head()"
   ]
  },
  {
   "cell_type": "code",
   "execution_count": null,
   "id": "da9c0c1e",
   "metadata": {},
   "outputs": [],
   "source": [
    "next_page =driver.find_elements(By.XPATH, \"//*[contains(@title,'Next Page')]\")\n",
    "next_page"
   ]
  },
  {
   "cell_type": "code",
   "execution_count": null,
   "id": "c9caa6d5",
   "metadata": {},
   "outputs": [],
   "source": [
    "number_of_pages = int(driver.find_elements(By.XPATH, \"//*[contains(@title,'Next Page')] /preceding-sibling::a[1]\")[0].text)"
   ]
  },
  {
   "cell_type": "code",
   "execution_count": 14,
   "id": "81b2379b",
   "metadata": {},
   "outputs": [
    {
     "data": {
      "text/plain": [
       "435"
      ]
     },
     "execution_count": 14,
     "metadata": {},
     "output_type": "execute_result"
    }
   ],
   "source": [
    "number_of_pages"
   ]
  },
  {
   "cell_type": "code",
   "execution_count": 16,
   "id": "4d8dbf28",
   "metadata": {},
   "outputs": [],
   "source": [
    "def main():\n",
    " all_data = []\n",
    " select = Select(driver.find_element_by_xpath(\"//select[@class='formitem' and @id='selWeek']\"))\n",
    " list_options = select.options\n",
    "\n",
    " for item in range(len(list_options)):\n",
    "    select = Select(driver.find_element_by_xpath(\"//select[@class='formitem' and @id='selWeek']\"))\n",
    "    select.select_by_index(str(item))\n",
    "    driver.find_element_by_css_selector(\"input.formbutton#csbtnSearch\").click()\n",
    "    number_of_pages = int(driver.find_element_by_xpath(\"//a[contains(text(),'Next')]/preceding-sibling::a[1]\").text)\n",
    "    for j in range(number_of_pages - 1):\n",
    "      all_data.extend(getData())\n",
    "      driver.find_element_by_xpath(\"//a[contains(text(),'Next')]\").click()\n",
    "      time.sleep(1)\n",
    "    driver.get(url)\n",
    "\n",
    " with open( 'wiltshire.json', 'w+' ) as f:\n",
    "    json.dump( all_data, f )\n",
    " driver.quit()"
   ]
  },
  {
   "cell_type": "code",
   "execution_count": null,
   "id": "a351e11a",
   "metadata": {},
   "outputs": [],
   "source": [
    "def getData():\n",
    "  data = []\n",
    "  rows = driver.find_element_by_xpath id=\"form1\"]/table/tbody').find_elements_by_tag_name('tr')\n",
    " for row in rows:\n",
    "    app_number = row.find_elements_by_tag_name('td')[1].text\n",
    "    address =  row.find_elements_by_tag_name('td')[2].text\n",
    "    proposals =  row.find_elements_by_tag_name('td')[3].text\n",
    "    status =  row.find_elements_by_tag_name('td')[4].text\n",
    "    data.append({\"CaseRef\": app_number, \"address\": address, \"proposals\": proposals, \"status\": status})\n",
    "print(data)\n",
    "return data"
   ]
  },
  {
   "cell_type": "code",
   "execution_count": 4,
   "id": "c3fc6442",
   "metadata": {},
   "outputs": [
    {
     "name": "stderr",
     "output_type": "stream",
     "text": [
      "\n",
      "\n",
      "====== WebDriver manager ======\n",
      "Current google-chrome version is 97.0.4692\n",
      "Get LATEST chromedriver version for 97.0.4692 google-chrome\n",
      "Driver [C:\\Users\\Huzefa\\.wdm\\drivers\\chromedriver\\win32\\97.0.4692.71\\chromedriver.exe] found in cache\n"
     ]
    }
   ],
   "source": [
    "driver = webdriver.Chrome(service=Service(ChromeDriverManager().install()))\n",
    "url = \"https://forums.edmunds.com/discussion/2864/general/x/entry-level-luxury-performance-sedans\"\n",
    "driver.get(url)\n",
    "\n",
    "comments = []\n",
    "def getData():\n",
    "    \n",
    "    \n",
    "    ids = driver.find_elements(By.XPATH, \"//*[contains(@id,'Comment_')]\")\n",
    "    comment_ids = []\n",
    "    for i in ids:\n",
    "        comment_ids.append(i.get_attribute('id'))\n",
    "        \n",
    "    for x in comment_ids:\n",
    "        user_date = driver.find_elements(By.XPATH,'//*[@id=\"' + x +'\"]/div/div[2]/div[2]/span[1]/a/time')[0]\n",
    "        date = user_date.get_attribute('title')\n",
    "        userid_element = driver.find_elements(By.XPATH,'//*[@id=\"' + x +'\"]/div/div[2]/div[1]/span[1]/a[2]')[0]\n",
    "        userid = userid_element.text\n",
    "        user_message = driver.find_elements(By.XPATH,'//*[@id=\"' + x +'\"]/div/div[3]/div/div[1]')[0]\n",
    "        comment = user_message.text\n",
    "        comments.append({\"Date\":date, \"user_id\":userid, \"comments\":comment})\n",
    "        return comments\n",
    "\n",
    "all_data = []    \n",
    "def main():\n",
    "  \n",
    "    number_of_pages =  int(driver.find_elements(By.XPATH, \"//*[contains(@title,'Next Page')] /preceding-sibling::a[1]\")[0].text)\n",
    "    for j in range(number_of_pages - 1):\n",
    "        \n",
    "        all_data.extend(getData()) \n",
    "        driver.find_elements(By.XPATH, \"//*[contains(@title,'Next Page')]\")[1].click()\n",
    "        time.sleep(1)\n",
    "    driver.get(url)\n",
    "    \n",
    "    driver.quit() \n",
    "    \n",
    "if __name__ == \"__main__\":\n",
    "    main()"
   ]
  },
  {
   "cell_type": "code",
   "execution_count": 32,
   "id": "04572dda",
   "metadata": {},
   "outputs": [],
   "source": [
    "df = pd.DataFrame(comments)"
   ]
  },
  {
   "cell_type": "code",
   "execution_count": 33,
   "id": "5e202f3b",
   "metadata": {
    "scrolled": true
   },
   "outputs": [
    {
     "data": {
      "text/html": [
       "<div>\n",
       "<style scoped>\n",
       "    .dataframe tbody tr th:only-of-type {\n",
       "        vertical-align: middle;\n",
       "    }\n",
       "\n",
       "    .dataframe tbody tr th {\n",
       "        vertical-align: top;\n",
       "    }\n",
       "\n",
       "    .dataframe thead th {\n",
       "        text-align: right;\n",
       "    }\n",
       "</style>\n",
       "<table border=\"1\" class=\"dataframe\">\n",
       "  <thead>\n",
       "    <tr style=\"text-align: right;\">\n",
       "      <th></th>\n",
       "      <th>Date</th>\n",
       "      <th>user_id</th>\n",
       "      <th>comments</th>\n",
       "    </tr>\n",
       "  </thead>\n",
       "  <tbody>\n",
       "    <tr>\n",
       "      <th>0</th>\n",
       "      <td>March 24, 2002 9:54PM</td>\n",
       "      <td>merc1</td>\n",
       "      <td>I personally think that with a few tweaks the ...</td>\n",
       "    </tr>\n",
       "    <tr>\n",
       "      <th>1</th>\n",
       "      <td>April 27, 2002 1:54PM</td>\n",
       "      <td>wishnhigh1</td>\n",
       "      <td>The problem is that they are HUGE generalizati...</td>\n",
       "    </tr>\n",
       "    <tr>\n",
       "      <th>2</th>\n",
       "      <td>September 16, 2002 2:48PM</td>\n",
       "      <td>atluskane</td>\n",
       "      <td>Does anyone find that the TL has extrememly bo...</td>\n",
       "    </tr>\n",
       "    <tr>\n",
       "      <th>3</th>\n",
       "      <td>September 30, 2002 8:28PM</td>\n",
       "      <td>jagboyxtype</td>\n",
       "      <td>Yes, my X-TYPE also has a seatbelt warning lig...</td>\n",
       "    </tr>\n",
       "    <tr>\n",
       "      <th>4</th>\n",
       "      <td>September 30, 2003 7:16AM</td>\n",
       "      <td>billyperks</td>\n",
       "      <td>Post your message on the Infiniti board, let b...</td>\n",
       "    </tr>\n",
       "    <tr>\n",
       "      <th>5</th>\n",
       "      <td>January 2, 2004 7:06AM</td>\n",
       "      <td>pat</td>\n",
       "      <td>Wellll, that is your opinion, of course. Other...</td>\n",
       "    </tr>\n",
       "    <tr>\n",
       "      <th>6</th>\n",
       "      <td>January 4, 2004 7:52AM</td>\n",
       "      <td>kdshapiro</td>\n",
       "      <td>braking - sorry the 70 to 0 braking of 189 rep...</td>\n",
       "    </tr>\n",
       "    <tr>\n",
       "      <th>7</th>\n",
       "      <td>January 5, 2004 8:16PM</td>\n",
       "      <td>ltmarks</td>\n",
       "      <td>hello everyone, I test drove both a Honda acco...</td>\n",
       "    </tr>\n",
       "    <tr>\n",
       "      <th>8</th>\n",
       "      <td>January 7, 2004 8:34AM</td>\n",
       "      <td>kominsky</td>\n",
       "      <td>Is that Blue Mountain ski resort, just north o...</td>\n",
       "    </tr>\n",
       "    <tr>\n",
       "      <th>9</th>\n",
       "      <td>January 8, 2004 8:28AM</td>\n",
       "      <td>qbrozen</td>\n",
       "      <td>The Legacy GT is another one I'm looking forwa...</td>\n",
       "    </tr>\n",
       "    <tr>\n",
       "      <th>10</th>\n",
       "      <td>January 16, 2004 12:31PM</td>\n",
       "      <td>buddhabman</td>\n",
       "      <td>Don't you think people see their car as projec...</td>\n",
       "    </tr>\n",
       "    <tr>\n",
       "      <th>11</th>\n",
       "      <td>January 27, 2004 9:53AM</td>\n",
       "      <td>chrisboth</td>\n",
       "      <td>\"The bottom line for me is that I think you ca...</td>\n",
       "    </tr>\n",
       "    <tr>\n",
       "      <th>12</th>\n",
       "      <td>January 28, 2004 11:33AM</td>\n",
       "      <td>chrisboth</td>\n",
       "      <td>I didn't bring it into the mix - the thoroughl...</td>\n",
       "    </tr>\n",
       "    <tr>\n",
       "      <th>13</th>\n",
       "      <td>January 30, 2004 3:28PM</td>\n",
       "      <td>speedracer3</td>\n",
       "      <td>I've driven a Passat and own an A4, and they d...</td>\n",
       "    </tr>\n",
       "  </tbody>\n",
       "</table>\n",
       "</div>"
      ],
      "text/plain": [
       "                         Date      user_id  \\\n",
       "0       March 24, 2002 9:54PM        merc1   \n",
       "1       April 27, 2002 1:54PM   wishnhigh1   \n",
       "2   September 16, 2002 2:48PM    atluskane   \n",
       "3   September 30, 2002 8:28PM  jagboyxtype   \n",
       "4   September 30, 2003 7:16AM   billyperks   \n",
       "5      January 2, 2004 7:06AM          pat   \n",
       "6      January 4, 2004 7:52AM    kdshapiro   \n",
       "7      January 5, 2004 8:16PM      ltmarks   \n",
       "8      January 7, 2004 8:34AM     kominsky   \n",
       "9      January 8, 2004 8:28AM      qbrozen   \n",
       "10   January 16, 2004 12:31PM   buddhabman   \n",
       "11    January 27, 2004 9:53AM    chrisboth   \n",
       "12   January 28, 2004 11:33AM    chrisboth   \n",
       "13    January 30, 2004 3:28PM  speedracer3   \n",
       "\n",
       "                                             comments  \n",
       "0   I personally think that with a few tweaks the ...  \n",
       "1   The problem is that they are HUGE generalizati...  \n",
       "2   Does anyone find that the TL has extrememly bo...  \n",
       "3   Yes, my X-TYPE also has a seatbelt warning lig...  \n",
       "4   Post your message on the Infiniti board, let b...  \n",
       "5   Wellll, that is your opinion, of course. Other...  \n",
       "6   braking - sorry the 70 to 0 braking of 189 rep...  \n",
       "7   hello everyone, I test drove both a Honda acco...  \n",
       "8   Is that Blue Mountain ski resort, just north o...  \n",
       "9   The Legacy GT is another one I'm looking forwa...  \n",
       "10  Don't you think people see their car as projec...  \n",
       "11  \"The bottom line for me is that I think you ca...  \n",
       "12  I didn't bring it into the mix - the thoroughl...  \n",
       "13  I've driven a Passat and own an A4, and they d...  "
      ]
     },
     "execution_count": 33,
     "metadata": {},
     "output_type": "execute_result"
    }
   ],
   "source": [
    "df"
   ]
  },
  {
   "cell_type": "code",
   "execution_count": 6,
   "id": "1251506a",
   "metadata": {},
   "outputs": [
    {
     "data": {
      "text/html": [
       "<div>\n",
       "<style scoped>\n",
       "    .dataframe tbody tr th:only-of-type {\n",
       "        vertical-align: middle;\n",
       "    }\n",
       "\n",
       "    .dataframe tbody tr th {\n",
       "        vertical-align: top;\n",
       "    }\n",
       "\n",
       "    .dataframe thead th {\n",
       "        text-align: right;\n",
       "    }\n",
       "</style>\n",
       "<table border=\"1\" class=\"dataframe\">\n",
       "  <thead>\n",
       "    <tr style=\"text-align: right;\">\n",
       "      <th></th>\n",
       "      <th>Date</th>\n",
       "      <th>user_id</th>\n",
       "      <th>comments</th>\n",
       "    </tr>\n",
       "  </thead>\n",
       "  <tbody>\n",
       "    <tr>\n",
       "      <th>0</th>\n",
       "      <td>March 24, 2002 9:54PM</td>\n",
       "      <td>merc1</td>\n",
       "      <td>I personally think that with a few tweaks the ...</td>\n",
       "    </tr>\n",
       "    <tr>\n",
       "      <th>1</th>\n",
       "      <td>March 24, 2002 9:54PM</td>\n",
       "      <td>merc1</td>\n",
       "      <td>I personally think that with a few tweaks the ...</td>\n",
       "    </tr>\n",
       "    <tr>\n",
       "      <th>2</th>\n",
       "      <td>April 27, 2002 1:54PM</td>\n",
       "      <td>wishnhigh1</td>\n",
       "      <td>The problem is that they are HUGE generalizati...</td>\n",
       "    </tr>\n",
       "    <tr>\n",
       "      <th>3</th>\n",
       "      <td>March 24, 2002 9:54PM</td>\n",
       "      <td>merc1</td>\n",
       "      <td>I personally think that with a few tweaks the ...</td>\n",
       "    </tr>\n",
       "    <tr>\n",
       "      <th>4</th>\n",
       "      <td>April 27, 2002 1:54PM</td>\n",
       "      <td>wishnhigh1</td>\n",
       "      <td>The problem is that they are HUGE generalizati...</td>\n",
       "    </tr>\n",
       "    <tr>\n",
       "      <th>...</th>\n",
       "      <td>...</td>\n",
       "      <td>...</td>\n",
       "      <td>...</td>\n",
       "    </tr>\n",
       "    <tr>\n",
       "      <th>94390</th>\n",
       "      <td>February 27, 2019 6:32AM</td>\n",
       "      <td>stickguy</td>\n",
       "      <td>I’m a big fan now of the better 2.0t engines.</td>\n",
       "    </tr>\n",
       "    <tr>\n",
       "      <th>94391</th>\n",
       "      <td>April 5, 2019 8:38AM</td>\n",
       "      <td>ab348</td>\n",
       "      <td>My point is that with a naturally aspirated en...</td>\n",
       "    </tr>\n",
       "    <tr>\n",
       "      <th>94392</th>\n",
       "      <td>April 23, 2019 9:13AM</td>\n",
       "      <td>Mr_Shiftright</td>\n",
       "      <td>I think for most people doing what most people...</td>\n",
       "    </tr>\n",
       "    <tr>\n",
       "      <th>94393</th>\n",
       "      <td>August 6, 2019 4:38AM</td>\n",
       "      <td>stickguy</td>\n",
       "      <td>drive a TLX if you haven't already. Even the F...</td>\n",
       "    </tr>\n",
       "    <tr>\n",
       "      <th>94394</th>\n",
       "      <td>August 18, 2019 12:19PM</td>\n",
       "      <td>andres3</td>\n",
       "      <td>benjaminh said:\\nLuxury VW Arteon hatchback se...</td>\n",
       "    </tr>\n",
       "  </tbody>\n",
       "</table>\n",
       "<p>94395 rows × 3 columns</p>\n",
       "</div>"
      ],
      "text/plain": [
       "                           Date        user_id  \\\n",
       "0         March 24, 2002 9:54PM          merc1   \n",
       "1         March 24, 2002 9:54PM          merc1   \n",
       "2         April 27, 2002 1:54PM     wishnhigh1   \n",
       "3         March 24, 2002 9:54PM          merc1   \n",
       "4         April 27, 2002 1:54PM     wishnhigh1   \n",
       "...                         ...            ...   \n",
       "94390  February 27, 2019 6:32AM       stickguy   \n",
       "94391      April 5, 2019 8:38AM          ab348   \n",
       "94392     April 23, 2019 9:13AM  Mr_Shiftright   \n",
       "94393     August 6, 2019 4:38AM       stickguy   \n",
       "94394   August 18, 2019 12:19PM        andres3   \n",
       "\n",
       "                                                comments  \n",
       "0      I personally think that with a few tweaks the ...  \n",
       "1      I personally think that with a few tweaks the ...  \n",
       "2      The problem is that they are HUGE generalizati...  \n",
       "3      I personally think that with a few tweaks the ...  \n",
       "4      The problem is that they are HUGE generalizati...  \n",
       "...                                                  ...  \n",
       "94390      I’m a big fan now of the better 2.0t engines.  \n",
       "94391  My point is that with a naturally aspirated en...  \n",
       "94392  I think for most people doing what most people...  \n",
       "94393  drive a TLX if you haven't already. Even the F...  \n",
       "94394  benjaminh said:\\nLuxury VW Arteon hatchback se...  \n",
       "\n",
       "[94395 rows x 3 columns]"
      ]
     },
     "execution_count": 6,
     "metadata": {},
     "output_type": "execute_result"
    }
   ],
   "source": [
    "df = pd.DataFrame(all_data)\n",
    "df"
   ]
  },
  {
   "cell_type": "code",
   "execution_count": 9,
   "id": "5bf9398e",
   "metadata": {},
   "outputs": [],
   "source": [
    "df.to_csv(\"selenium_pagination_scraping\")"
   ]
  },
  {
   "cell_type": "code",
   "execution_count": null,
   "id": "eb324f11",
   "metadata": {},
   "outputs": [],
   "source": []
  },
  {
   "cell_type": "code",
   "execution_count": null,
   "id": "d2b6d32d",
   "metadata": {},
   "outputs": [],
   "source": []
  }
 ],
 "metadata": {
  "kernelspec": {
   "display_name": "Python 3 (ipykernel)",
   "language": "python",
   "name": "python3"
  },
  "language_info": {
   "codemirror_mode": {
    "name": "ipython",
    "version": 3
   },
   "file_extension": ".py",
   "mimetype": "text/x-python",
   "name": "python",
   "nbconvert_exporter": "python",
   "pygments_lexer": "ipython3",
   "version": "3.9.7"
  }
 },
 "nbformat": 4,
 "nbformat_minor": 5
}
